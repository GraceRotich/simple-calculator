{
 "cells": [
  {
   "cell_type": "markdown",
   "metadata": {},
   "source": [
    "# This is a school project \n",
    "## Introduction\n",
    "In this project, you'll create a simple calculator which can perform basic arithmetic operations like addition, subtraction, multiplication, or division depending on the user input.\n",
    "\n",
    "## Objectives\n",
    "* Use a while loop\n",
    "* Incorporate input/output functionality in code to allow for user interaction\n",
    "* Declare and use a function with arguments\n",
    "* Use break and continue to add control flow to a while loop\n",
    "\n",
    "## Approach\n",
    "* User chooses the desired operation. Options 1, 2, 3, and 4 are valid options for operations\n",
    "* Two numbers are taken and an if…elif…else branching is used to execute a particular section\n",
    "* Using functions add(), subtract(), multiply(), and divide() evaluate respective operations\n",
    "* The code should handle exceptions and must return \"invalid input\" when an unexpected character is given in the input (anything other than 1 - 4)\n",
    "\n",
    "### Example interface\n",
    "Here is the interface you are expected to build. Don't worry if it is not 100% the same as what is shown. Focus more on the getting the logic correct at this stage.\n",
    "\n",
    "Please select an operation:\n",
    "1. Add\n",
    "2. Subtract\n",
    "3. Multiply\n",
    "4. Divide\n",
    "\n",
    "Select operations from 1, 2, 3, 4 : 1\n",
    "Enter first number : 20\n",
    "Enter second number : 13\n",
    "20 + 13 = 33"
   ]
  },
  {
   "cell_type": "markdown",
   "metadata": {},
   "source": [
    "###  Creating arithmetic functions\n",
    "We'll create four functions, one for each arithmetic operation which will perform the required operation and return the resulting value as shown below:"
   ]
  },
  {
   "cell_type": "code",
   "execution_count": null,
   "metadata": {},
   "outputs": [],
   "source": [
    "# Function to add two numbers \n",
    "def add(num1, num2):\n",
    "    adding = num1 + num2\n",
    "    return adding\n",
    "\n",
    "# Function to add two numbers \n",
    "def add(num1, num2):\n",
    "    adding = num1 + num2\n",
    "    return adding"
   ]
  }
 ],
 "metadata": {
  "kernelspec": {
   "display_name": "Python (learn-env)",
   "language": "python",
   "name": "learn-env"
  },
  "language_info": {
   "codemirror_mode": {
    "name": "ipython",
    "version": 3
   },
   "file_extension": ".py",
   "mimetype": "text/x-python",
   "name": "python",
   "nbconvert_exporter": "python",
   "pygments_lexer": "ipython3",
   "version": "3.8.5"
  }
 },
 "nbformat": 4,
 "nbformat_minor": 4
}
